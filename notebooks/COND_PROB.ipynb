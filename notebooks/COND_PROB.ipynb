{
 "cells": [
  {
   "cell_type": "code",
   "execution_count": 1,
   "metadata": {},
   "outputs": [],
   "source": [
    "import sys\n",
    "sys.path.append('../scripts/')\n",
    "import CPM\n",
    "import json\n",
    "import pandas as pd\n",
    "import itertools\n",
    "import glypy"
   ]
  },
  {
   "cell_type": "code",
   "execution_count": 2,
   "metadata": {},
   "outputs": [],
   "source": [
    "filename = '../data/unicarb_substructures.linkAmbiguous.matched.json'\n",
    "filename2 = '../data/unicarb_substructures.linkAmbiguous.merged.json'\n",
    "\n",
    "with open(filename, 'r') as f:\n",
    "    substructure_data = json.load(f)\n",
    "    \n",
    "with open(filename2, 'r') as f2:\n",
    "    substructure_id = json.load(f2)\n",
    "    \n",
    "substructure_db = pd.DataFrame(data=substructure_data)\n"
   ]
  },
  {
   "cell_type": "code",
   "execution_count": null,
   "metadata": {},
   "outputs": [],
   "source": []
  },
  {
   "cell_type": "code",
   "execution_count": 3,
   "metadata": {},
   "outputs": [],
   "source": [
    "# mx=109\n",
    "# ((substructure_db.T[mx]) & (1/substructure_db[(mx+1)::].sum()==0  )).sum()"
   ]
  },
  {
   "cell_type": "code",
   "execution_count": 4,
   "metadata": {
    "scrolled": true
   },
   "outputs": [
    {
     "data": {
      "text/plain": [
       "'a-L-Fucp'"
      ]
     },
     "execution_count": 4,
     "metadata": {},
     "output_type": "execute_result"
    }
   ],
   "source": [
    "glypy.io.iupac.dumps((glypy.io.glycoct.loads(substructure_id[0])))"
   ]
  },
  {
   "cell_type": "code",
   "execution_count": null,
   "metadata": {},
   "outputs": [],
   "source": [
    "#print(CPM.conditional_vect('G56682BC', substructure_data))\n",
    "#CPM.conditional_matrix('G56682BC', substructure_data)\n",
    "\n",
    "#n = 10\n",
    "cond= pd.concat([CPM.conditional_vect(gi, substructure_data).T for gi in list(substructure_db.columns) ]).T\n",
    "#cond_gly= pd.concat([CPM.conditional_vect(gi, substructure_data,mode='glycan').T for gi in list(substructure_db.columns)[0:n] ]).T\n",
    "#cond= pd.concat([pd.DataFrame(CPM.conditional_matrix(gi, substructure_data)).T for gi in ['G56682BC', 'G65562ZE','G82348BZ', 'G42797SX', 'G24413UY', 'G28156XV']]).T\n",
    "\n",
    "cond = cond.replace(float(\"NaN\"),0)\n",
    "cond\n",
    "#cond_gly\n",
    "#assert all(cond_gly.sum()<=1)"
   ]
  },
  {
   "cell_type": "code",
   "execution_count": null,
   "metadata": {},
   "outputs": [],
   "source": [
    "#CPM.conditional_matrix_cbx('G56682BC', substructure_data)\n",
    "\n",
    "cond= pd.concat([CPM.conditional_cbx_vect(gi, substructure_data).T for gi in list(substructure_db.columns) ]).T\n"
   ]
  },
  {
   "cell_type": "code",
   "execution_count": null,
   "metadata": {},
   "outputs": [],
   "source": [
    "list(range(10))[-1]"
   ]
  },
  {
   "cell_type": "code",
   "execution_count": null,
   "metadata": {},
   "outputs": [],
   "source": []
  }
 ],
 "metadata": {
  "kernelspec": {
   "display_name": "Python 3",
   "language": "python",
   "name": "python3"
  },
  "language_info": {
   "codemirror_mode": {
    "name": "ipython",
    "version": 3
   },
   "file_extension": ".py",
   "mimetype": "text/x-python",
   "name": "python",
   "nbconvert_exporter": "python",
   "pygments_lexer": "ipython3",
   "version": "3.7.3"
  }
 },
 "nbformat": 4,
 "nbformat_minor": 4
}

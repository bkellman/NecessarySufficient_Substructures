{
 "cells": [
  {
   "cell_type": "code",
   "execution_count": 4,
   "metadata": {},
   "outputs": [],
   "source": [
    "import sys\n",
    "sys.path.append('../scripts/')\n",
    "import CPM\n",
    "import json\n",
    "import pandas as pd\n",
    "import itertools\n",
    "import glypy\n",
    "#import glycompare\n",
    "\n",
    "#writer = pd.ExcelWriter('../results/conditional_substr.xlsx')\n"
   ]
  },
  {
   "cell_type": "code",
   "execution_count": 5,
   "metadata": {},
   "outputs": [],
   "source": [
    "filename = '../data/unicarb_substructures.linkAmbiguous.matched.json'\n",
    "filename2 = '../data/unicarb_substructures.linkAmbiguous.merged.json'\n",
    "\n",
    "with open(filename, 'r') as f:\n",
    "    substructure_data = json.load(f)\n",
    "    \n",
    "with open(filename2, 'r') as f2:\n",
    "    substructure_id = json.load(f2)\n",
    "    \n",
    "substructure_db = pd.DataFrame(data=substructure_data)\n",
    "\n"
   ]
  },
  {
   "cell_type": "code",
   "execution_count": null,
   "metadata": {},
   "outputs": [],
   "source": [
    "### substructure conditional prob\n",
    "cond= pd.concat([CPM.conditional_vect(gi, substructure_data).T for gi in list(substructure_db.columns) ]).T\n",
    "cond = cond.replace(float(\"NaN\"),0)\n",
    "cond['iupac'] = [glypy.io.iupac.dumps((glypy.io.glycoct.loads(substructure_id[i]))) for i in cond.index]\n",
    "cond.to_csv('../results/substruct_condition.linkAmiguous.csv')\n",
    "cond.to_excel(writer,'linkAmiguous_substr')\n",
    "\n"
   ]
  },
  {
   "cell_type": "code",
   "execution_count": null,
   "metadata": {},
   "outputs": [],
   "source": [
    "### substructure conditional prob\n",
    "cond= pd.concat([CPM.conditional_cbx_vect(gi, substructure_data).T for gi in list(substructure_db.columns) ]).T\n",
    "cond = cond.replace(float(\"NaN\"),0)\n",
    "idxs = pd.DataFrame.from_records(cond.index,columns=['idx1','idx2'])\n",
    "cond['iupac1'] = [glypy.io.iupac.dumps((glypy.io.glycoct.loads(substructure_id[i]))) for i in idxs.idx1]\n",
    "cond['iupac2'] = [glypy.io.iupac.dumps((glypy.io.glycoct.loads(substructure_id[i]))) for i in idxs.idx2]\n",
    "cond.to_csv('../results/substruct_condition.cbx.linkAmiguous.csv')\n",
    "cond.to_excel(writer,'linkAmiguous_substrCBX')"
   ]
  },
  {
   "cell_type": "code",
   "execution_count": null,
   "metadata": {},
   "outputs": [],
   "source": []
  },
  {
   "cell_type": "code",
   "execution_count": null,
   "metadata": {},
   "outputs": [],
   "source": [
    "filename = '../data/unicarb_substructures.linkSpecific.matched.json'\n",
    "filename2 = '../data/unicarb_substructures.linkSpecific.merged.json'\n",
    "\n",
    "with open(filename, 'r') as f:\n",
    "    substructure_data = json.load(f)\n",
    "    \n",
    "with open(filename2, 'r') as f2:\n",
    "    substructure_id = json.load(f2)\n",
    "    \n",
    "substructure_db = pd.DataFrame(data=substructure_data)\n",
    "\n",
    "### substructure conditional prob\n",
    "cond= pd.concat([CPM.conditional_vect(gi, substructure_data).T for gi in list(substructure_db.columns) ]).T\n",
    "cond = cond.replace(float(\"NaN\"),0)\n",
    "cond['iupac'] = [glypy.io.iupac.dumps((glypy.io.glycoct.loads(substructure_id[i]))) for i in cond.index]\n",
    "cond.to_csv('../results/substruct_condition.linkSpecific.csv')\n",
    "cond.to_excel(writer,'linkSpec_substr')\n",
    "\n",
    "### substructure conditional prob\n",
    "cond= pd.concat([CPM.conditional_cbx_vect(gi, substructure_data).T for gi in list(substructure_db.columns) ]).T\n",
    "cond = cond.replace(float(\"NaN\"),0)\n",
    "idxs = pd.DataFrame.from_records(cond.index,columns=['idx1','idx2'])\n",
    "cond['iupac1'] = [glypy.io.iupac.dumps((glypy.io.glycoct.loads(substructure_id[i]))) for i in idxs.idx1]\n",
    "cond['iupac2'] = [glypy.io.iupac.dumps((glypy.io.glycoct.loads(substructure_id[i]))) for i in idxs.idx2]\n",
    "cond.to_csv('../results/substruct_condition.cbx.linkSpecific.csv')\n",
    "cond.to_excel(writer,'linkSpec_substrCBX')\n"
   ]
  },
  {
   "cell_type": "code",
   "execution_count": 8,
   "metadata": {},
   "outputs": [
    {
     "data": {
      "text/plain": [
       "(RES 1b:a-lgal-HEX-1:5|6:d: id=1  x=0.0 mod=0,\n",
       " <matplotlib.axes._subplots.AxesSubplot at 0x7f1e6ab1af10>)"
      ]
     },
     "execution_count": 8,
     "metadata": {},
     "output_type": "execute_result"
    },
    {
     "data": {
      "image/png": "[encoded data removed]",
      "text/plain": [
       "<Figure size 432x288 with 1 Axes>"
      ]
     },
     "metadata": {
      "needs_background": "light"
     },
     "output_type": "display_data"
    }
   ],
   "source": [
    "import glypy\n",
    "from glypy import plot\n",
    "\n",
    "glypy.plot.plot(glypy.io.glycoct.loads(substructure_id[0]))"
   ]
  },
  {
   "cell_type": "code",
   "execution_count": null,
   "metadata": {},
   "outputs": [],
   "source": [
    "assert 1==2"
   ]
  },
  {
   "cell_type": "code",
   "execution_count": null,
   "metadata": {},
   "outputs": [],
   "source": []
  },
  {
   "cell_type": "code",
   "execution_count": null,
   "metadata": {},
   "outputs": [],
   "source": []
  },
  {
   "cell_type": "code",
   "execution_count": null,
   "metadata": {},
   "outputs": [],
   "source": []
  },
  {
   "cell_type": "code",
   "execution_count": null,
   "metadata": {},
   "outputs": [],
   "source": [
    "# mx=109\n",
    "# ((substructure_db.T[mx]) & (1/substructure_db[(mx+1)::].sum()==0  )).sum()"
   ]
  },
  {
   "cell_type": "code",
   "execution_count": null,
   "metadata": {
    "scrolled": true
   },
   "outputs": [],
   "source": []
  },
  {
   "cell_type": "code",
   "execution_count": null,
   "metadata": {},
   "outputs": [],
   "source": []
  },
  {
   "cell_type": "code",
   "execution_count": null,
   "metadata": {
    "scrolled": true
   },
   "outputs": [],
   "source": [
    "#CPM.conditional_matrix_cbx('G56682BC', substructure_data)\n",
    "\n",
    "cond= pd.concat([CPM.conditional_cbx_vect(gi, substructure_data).T for gi in list(substructure_db.columns)[1:5] ]).T\n",
    "cond = cond.replace(float(\"NaN\"),0)\n",
    "idxs = pd.DataFrame.from_records(cond.index,columns=['idx1','idx2'])\n",
    "cond['iupac1'] = [glypy.io.iupac.dumps((glypy.io.glycoct.loads(substructure_id[i]))) for i in idxs.idx1]\n",
    "cond['iupac2'] = [glypy.io.iupac.dumps((glypy.io.glycoct.loads(substructure_id[i]))) for i in idxs.idx2]"
   ]
  },
  {
   "cell_type": "code",
   "execution_count": null,
   "metadata": {},
   "outputs": [],
   "source": [
    "cond"
   ]
  },
  {
   "cell_type": "code",
   "execution_count": null,
   "metadata": {},
   "outputs": [],
   "source": []
  }
 ],
 "metadata": {
  "kernelspec": {
   "display_name": "Python 2",
   "language": "python",
   "name": "python2"
  },
  "language_info": {
   "codemirror_mode": {
    "name": "ipython",
    "version": 3
   },
   "file_extension": ".py",
   "mimetype": "text/x-python",
   "name": "python",
   "nbconvert_exporter": "python",
   "pygments_lexer": "ipython3",
   "version": "3.7.4"
  }
 },
 "nbformat": 4,
 "nbformat_minor": 4
}
